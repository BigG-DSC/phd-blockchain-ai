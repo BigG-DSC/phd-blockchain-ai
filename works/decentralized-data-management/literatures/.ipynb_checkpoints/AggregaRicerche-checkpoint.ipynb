{
 "cells": [
  {
   "cell_type": "code",
   "execution_count": 2,
   "metadata": {},
   "outputs": [],
   "source": [
    "import pandas as pd"
   ]
  },
  {
   "cell_type": "markdown",
   "metadata": {},
   "source": [
    "### Springer"
   ]
  },
  {
   "cell_type": "code",
   "execution_count": 4,
   "metadata": {},
   "outputs": [
    {
     "data": {
      "text/html": [
       "<div>\n",
       "<style scoped>\n",
       "    .dataframe tbody tr th:only-of-type {\n",
       "        vertical-align: middle;\n",
       "    }\n",
       "\n",
       "    .dataframe tbody tr th {\n",
       "        vertical-align: top;\n",
       "    }\n",
       "\n",
       "    .dataframe thead th {\n",
       "        text-align: right;\n",
       "    }\n",
       "</style>\n",
       "<table border=\"1\" class=\"dataframe\">\n",
       "  <thead>\n",
       "    <tr style=\"text-align: right;\">\n",
       "      <th></th>\n",
       "      <th>Item Title</th>\n",
       "      <th>Publication Title</th>\n",
       "      <th>Book Series Title</th>\n",
       "      <th>Journal Volume</th>\n",
       "      <th>Journal Issue</th>\n",
       "      <th>Item DOI</th>\n",
       "      <th>Authors</th>\n",
       "      <th>Publication Year</th>\n",
       "      <th>URL</th>\n",
       "      <th>Content Type</th>\n",
       "    </tr>\n",
       "  </thead>\n",
       "  <tbody>\n",
       "    <tr>\n",
       "      <th>0</th>\n",
       "      <td>Ensuring protocol compliance and data transpar...</td>\n",
       "      <td>BMC Medical Research Methodology</td>\n",
       "      <td>NaN</td>\n",
       "      <td>20.0</td>\n",
       "      <td>1.0</td>\n",
       "      <td>10.1186/s12874-020-01109-5</td>\n",
       "      <td>Ilhaam A. OmarRaja JayaramanKhaled SalahMecit ...</td>\n",
       "      <td>2020</td>\n",
       "      <td>http://link.springer.com/article/10.1186/s1287...</td>\n",
       "      <td>Article</td>\n",
       "    </tr>\n",
       "  </tbody>\n",
       "</table>\n",
       "</div>"
      ],
      "text/plain": [
       "                                          Item Title  \\\n",
       "0  Ensuring protocol compliance and data transpar...   \n",
       "\n",
       "                  Publication Title  Book Series Title  Journal Volume  \\\n",
       "0  BMC Medical Research Methodology                NaN            20.0   \n",
       "\n",
       "   Journal Issue                    Item DOI  \\\n",
       "0            1.0  10.1186/s12874-020-01109-5   \n",
       "\n",
       "                                             Authors  Publication Year  \\\n",
       "0  Ilhaam A. OmarRaja JayaramanKhaled SalahMecit ...              2020   \n",
       "\n",
       "                                                 URL Content Type  \n",
       "0  http://link.springer.com/article/10.1186/s1287...      Article  "
      ]
     },
     "execution_count": 4,
     "metadata": {},
     "output_type": "execute_result"
    }
   ],
   "source": [
    "springer = pd.read_csv('springer.csv')\n",
    "springer.head(1)"
   ]
  },
  {
   "cell_type": "code",
   "execution_count": 2,
   "metadata": {},
   "outputs": [],
   "source": [
    "springer_bh = springer[\"Item Title\"]"
   ]
  },
  {
   "cell_type": "code",
   "execution_count": 6,
   "metadata": {
    "scrolled": true
   },
   "outputs": [
    {
     "name": "stdout",
     "output_type": "stream",
     "text": [
      "Titoli totali su Springer: 13\n"
     ]
    }
   ],
   "source": [
    "print(\"Titoli totali su Springer:\", len(springer))"
   ]
  },
  {
   "cell_type": "markdown",
   "metadata": {},
   "source": [
    "### IEEE Xplore"
   ]
  },
  {
   "cell_type": "code",
   "execution_count": 8,
   "metadata": {},
   "outputs": [],
   "source": [
    "ieee_bh = pd.read_csv('ieee_bh.csv', sep=\",\", quotechar='\"')\n",
    "ieee_bh = ieee_bh[\"Document Title\"]"
   ]
  },
  {
   "cell_type": "code",
   "execution_count": 9,
   "metadata": {},
   "outputs": [],
   "source": [
    "ieee_bhs = pd.read_csv('ieee_bhs.csv', sep=\",\", quotechar='\"')\n",
    "ieee_bhs = ieee_bhs[\"Document Title\"]"
   ]
  },
  {
   "cell_type": "code",
   "execution_count": 73,
   "metadata": {},
   "outputs": [],
   "source": [
    "ieee_bi = pd.read_csv('ieee_bi.csv')\n",
    "ieee_bi = ieee_bi[\"Document Title\"]\n",
    "ieee_bis = pd.read_csv('ieee_bis.csv')\n",
    "ieee_bis = ieee_bis[\"Document Title\"]"
   ]
  },
  {
   "cell_type": "code",
   "execution_count": 10,
   "metadata": {
    "scrolled": true
   },
   "outputs": [],
   "source": [
    "ieee_unique = pd.concat([ieee_bh, ieee_bhs], ignore_index=True).drop_duplicates(keep='first', inplace=False)"
   ]
  },
  {
   "cell_type": "code",
   "execution_count": 11,
   "metadata": {},
   "outputs": [],
   "source": [
    "ieee_bh_only = pd.Series(list(set(ieee_bh) - set(ieee_bhs).intersection(set(ieee_unique))))"
   ]
  },
  {
   "cell_type": "code",
   "execution_count": 18,
   "metadata": {
    "scrolled": true
   },
   "outputs": [],
   "source": [
    "ieee_bhs_only = pd.Series(list(set(ieee_bhs).intersection(set(ieee_unique))))"
   ]
  },
  {
   "cell_type": "code",
   "execution_count": 19,
   "metadata": {},
   "outputs": [
    {
     "name": "stdout",
     "output_type": "stream",
     "text": [
      "Titoli totali: 250\n",
      "Titoli duplicati: 16\n",
      "Titoli bh: 218\n",
      "Titoli bhs: 16\n"
     ]
    }
   ],
   "source": [
    "print \"Titoli totali:\", len(ieee_bh)+len(ieee_bhs)\n",
    "print \"Titoli duplicati:\", (len(ieee_bh)+len(ieee_bhs))-len(ieee_unique)\n",
    "print \"Titoli bh:\", len(ieee_bh_only)\n",
    "print \"Titoli bhs:\", len(ieee_bhs_only)"
   ]
  },
  {
   "cell_type": "markdown",
   "metadata": {},
   "source": [
    "### Wiley"
   ]
  },
  {
   "cell_type": "code",
   "execution_count": 20,
   "metadata": {},
   "outputs": [],
   "source": [
    "wiley_file = open('wiley_bh.txt', 'r')\n",
    "rows = wiley_file.readlines()"
   ]
  },
  {
   "cell_type": "code",
   "execution_count": 21,
   "metadata": {},
   "outputs": [],
   "source": [
    "titles = []\n",
    "for row in rows:\n",
    "    if row.startswith('TI'):\n",
    "        titles.append(row.split('-')[1].strip())        "
   ]
  },
  {
   "cell_type": "code",
   "execution_count": 22,
   "metadata": {},
   "outputs": [],
   "source": [
    "wiley_bh = pd.DataFrame(titles) "
   ]
  },
  {
   "cell_type": "code",
   "execution_count": 23,
   "metadata": {},
   "outputs": [],
   "source": [
    "wiley_file = open('wiley_bhs.txt', 'r')\n",
    "rows = wiley_file.readlines()"
   ]
  },
  {
   "cell_type": "code",
   "execution_count": 24,
   "metadata": {},
   "outputs": [],
   "source": [
    "titles = []\n",
    "for row in rows:\n",
    "    if row.startswith('TI'):\n",
    "        titles.append(row.split('-')[1].strip())        "
   ]
  },
  {
   "cell_type": "code",
   "execution_count": 25,
   "metadata": {},
   "outputs": [],
   "source": [
    "wiley_bhs = pd.DataFrame(titles) "
   ]
  },
  {
   "cell_type": "code",
   "execution_count": 74,
   "metadata": {},
   "outputs": [],
   "source": [
    "wiley_file = open('wiley_bi.txt', 'r')\n",
    "rows = wiley_file.readlines()\n",
    "titles = []\n",
    "for row in rows:\n",
    "    if row.startswith('TI'):\n",
    "        titles.append(row.split('-')[1].strip())   \n",
    "wiley_bi = pd.DataFrame(titles)"
   ]
  },
  {
   "cell_type": "code",
   "execution_count": 75,
   "metadata": {},
   "outputs": [],
   "source": [
    "wiley_file = open('wiley_bis.txt', 'r')\n",
    "rows = wiley_file.readlines()\n",
    "titles = []\n",
    "for row in rows:\n",
    "    if row.startswith('TI'):\n",
    "        titles.append(row.split('-')[1].strip())   \n",
    "wiley_bis = pd.DataFrame(titles)"
   ]
  },
  {
   "cell_type": "code",
   "execution_count": 26,
   "metadata": {
    "scrolled": true
   },
   "outputs": [],
   "source": [
    "wiley_unique = pd.concat([wiley_bh, wiley_bhs], ignore_index=True).drop_duplicates(keep='first', inplace=False)"
   ]
  },
  {
   "cell_type": "code",
   "execution_count": 36,
   "metadata": {},
   "outputs": [],
   "source": [
    "wiley_bh_only = pd.Series(list(set(wiley_bh[0]) - set(wiley_bhs[0]).intersection(set(wiley_unique[0]))))"
   ]
  },
  {
   "cell_type": "code",
   "execution_count": 37,
   "metadata": {},
   "outputs": [],
   "source": [
    "wiley_bhs_only = pd.Series(list(set(wiley_bhs[0]).intersection(set(wiley_unique[0]))))"
   ]
  },
  {
   "cell_type": "code",
   "execution_count": 38,
   "metadata": {},
   "outputs": [
    {
     "name": "stdout",
     "output_type": "stream",
     "text": [
      "Titoli totali: 419\n",
      "Titoli duplicati: 198\n",
      "Titoli bh: 125\n",
      "Titoli bhs: 96\n"
     ]
    }
   ],
   "source": [
    "print \"Titoli totali:\", len(wiley_bh[0])+len(wiley_bhs[0])\n",
    "print \"Titoli duplicati:\", (len(wiley_bh[0])+len(wiley_bhs[0]))-len(wiley_unique[0])\n",
    "print \"Titoli bh:\", len(wiley_bh_only)\n",
    "print \"Titoli bhs:\", len(wiley_bhs_only)"
   ]
  },
  {
   "cell_type": "markdown",
   "metadata": {},
   "source": [
    "### ACM"
   ]
  },
  {
   "cell_type": "code",
   "execution_count": 39,
   "metadata": {},
   "outputs": [],
   "source": [
    "acm_file = open('acm_bh.bib', 'r')\n",
    "rows = acm_file.readlines()"
   ]
  },
  {
   "cell_type": "code",
   "execution_count": 40,
   "metadata": {},
   "outputs": [],
   "source": [
    "titles = []\n",
    "for row in rows:\n",
    "    if row.startswith('title'):\n",
    "        start = row.find('{')+1\n",
    "        end = row.find('}')\n",
    "        titles.append(row[start:end])      "
   ]
  },
  {
   "cell_type": "code",
   "execution_count": 41,
   "metadata": {},
   "outputs": [],
   "source": [
    "acm_bh = pd.DataFrame(titles) "
   ]
  },
  {
   "cell_type": "code",
   "execution_count": 42,
   "metadata": {},
   "outputs": [],
   "source": [
    "acm_file = open('acm_bhs.bib', 'r')\n",
    "rows = acm_file.readlines()"
   ]
  },
  {
   "cell_type": "code",
   "execution_count": 43,
   "metadata": {},
   "outputs": [],
   "source": [
    "titles = []\n",
    "for row in rows:\n",
    "    if row.startswith('title'):\n",
    "        start = row.find('{')+1\n",
    "        end = row.find('}')\n",
    "        titles.append(row[start:end])    "
   ]
  },
  {
   "cell_type": "code",
   "execution_count": 44,
   "metadata": {},
   "outputs": [],
   "source": [
    "acm_bhs = pd.DataFrame(titles) "
   ]
  },
  {
   "cell_type": "code",
   "execution_count": 76,
   "metadata": {},
   "outputs": [],
   "source": [
    "acm_file = open('acm_bi.bib', 'r')\n",
    "rows = acm_file.readlines()\n",
    "titles = []\n",
    "for row in rows:\n",
    "    if row.startswith('title'):\n",
    "        start = row.find('{')+1\n",
    "        end = row.find('}')\n",
    "        titles.append(row[start:end]) \n",
    "acm_bi = pd.DataFrame(titles) "
   ]
  },
  {
   "cell_type": "code",
   "execution_count": 77,
   "metadata": {},
   "outputs": [
    {
     "ename": "IOError",
     "evalue": "[Errno 2] No such file or directory: 'acm_bis.bib'",
     "output_type": "error",
     "traceback": [
      "\u001b[0;31m---------------------------------------------------------------------------\u001b[0m",
      "\u001b[0;31mIOError\u001b[0m                                   Traceback (most recent call last)",
      "\u001b[0;32m<ipython-input-77-21d968a06c60>\u001b[0m in \u001b[0;36m<module>\u001b[0;34m()\u001b[0m\n\u001b[0;32m----> 1\u001b[0;31m \u001b[0macm_file\u001b[0m \u001b[0;34m=\u001b[0m \u001b[0mopen\u001b[0m\u001b[0;34m(\u001b[0m\u001b[0;34m'acm_bis.bib'\u001b[0m\u001b[0;34m,\u001b[0m \u001b[0;34m'r'\u001b[0m\u001b[0;34m)\u001b[0m\u001b[0;34m\u001b[0m\u001b[0m\n\u001b[0m\u001b[1;32m      2\u001b[0m \u001b[0mrows\u001b[0m \u001b[0;34m=\u001b[0m \u001b[0macm_file\u001b[0m\u001b[0;34m.\u001b[0m\u001b[0mreadlines\u001b[0m\u001b[0;34m(\u001b[0m\u001b[0;34m)\u001b[0m\u001b[0;34m\u001b[0m\u001b[0m\n\u001b[1;32m      3\u001b[0m \u001b[0mtitles\u001b[0m \u001b[0;34m=\u001b[0m \u001b[0;34m[\u001b[0m\u001b[0;34m]\u001b[0m\u001b[0;34m\u001b[0m\u001b[0m\n\u001b[1;32m      4\u001b[0m \u001b[0;32mfor\u001b[0m \u001b[0mrow\u001b[0m \u001b[0;32min\u001b[0m \u001b[0mrows\u001b[0m\u001b[0;34m:\u001b[0m\u001b[0;34m\u001b[0m\u001b[0m\n\u001b[1;32m      5\u001b[0m     \u001b[0;32mif\u001b[0m \u001b[0mrow\u001b[0m\u001b[0;34m.\u001b[0m\u001b[0mstartswith\u001b[0m\u001b[0;34m(\u001b[0m\u001b[0;34m'title'\u001b[0m\u001b[0;34m)\u001b[0m\u001b[0;34m:\u001b[0m\u001b[0;34m\u001b[0m\u001b[0m\n",
      "\u001b[0;31mIOError\u001b[0m: [Errno 2] No such file or directory: 'acm_bis.bib'"
     ]
    }
   ],
   "source": [
    "acm_file = open('acm_bis.bib', 'r')\n",
    "rows = acm_file.readlines()\n",
    "titles = []\n",
    "for row in rows:\n",
    "    if row.startswith('title'):\n",
    "        start = row.find('{')+1\n",
    "        end = row.find('}')\n",
    "        titles.append(row[start:end]) \n",
    "acm_bis = pd.DataFrame(titles) "
   ]
  },
  {
   "cell_type": "code",
   "execution_count": 45,
   "metadata": {
    "scrolled": true
   },
   "outputs": [],
   "source": [
    "acm_unique = pd.concat([acm_bh, acm_bhs], ignore_index=True).drop_duplicates(keep='first', inplace=False)"
   ]
  },
  {
   "cell_type": "code",
   "execution_count": 46,
   "metadata": {},
   "outputs": [],
   "source": [
    "acm_bh_only = pd.Series(list(set(acm_bh[0]) - set(acm_bhs[0]).intersection(set(acm_unique[0]))))"
   ]
  },
  {
   "cell_type": "code",
   "execution_count": 47,
   "metadata": {},
   "outputs": [],
   "source": [
    "acm_bhs_only = pd.Series(list(set(acm_bhs[0]).intersection(set(acm_unique[0]))))"
   ]
  },
  {
   "cell_type": "code",
   "execution_count": 51,
   "metadata": {
    "scrolled": true
   },
   "outputs": [
    {
     "name": "stdout",
     "output_type": "stream",
     "text": [
      "Titoli totali: 367\n",
      "Titoli duplicati: 136\n",
      "Titoli bh: 100\n",
      "Titoli bhs: 131\n"
     ]
    }
   ],
   "source": [
    "print \"Titoli totali:\", len(acm_bh[0])+len(acm_bhs[0])\n",
    "print \"Titoli duplicati:\", (len(acm_bh[0])+len(acm_bhs[0]))-len(acm_unique[0])\n",
    "print \"Titoli bh:\", len(acm_bh_only)\n",
    "print \"Titoli bhs:\", len(acm_bhs_only)"
   ]
  },
  {
   "cell_type": "markdown",
   "metadata": {},
   "source": [
    "### Merge IEEE, Springer, ACM, Wiley"
   ]
  },
  {
   "cell_type": "code",
   "execution_count": 58,
   "metadata": {
    "scrolled": true
   },
   "outputs": [],
   "source": [
    "final = pd.concat([ieee_bh_only, springer_bh_only, acm_bh_only, wiley_bh_only], ignore_index=True).drop_duplicates(keep='first', inplace=False)"
   ]
  },
  {
   "cell_type": "code",
   "execution_count": 59,
   "metadata": {},
   "outputs": [],
   "source": [
    "final = final.apply(lambda x: x if x.lower().find('blockchain') != -1 or x.lower().find('healthcare') != -1 else -1)"
   ]
  },
  {
   "cell_type": "code",
   "execution_count": 61,
   "metadata": {
    "scrolled": true
   },
   "outputs": [
    {
     "data": {
      "text/plain": [
       "268"
      ]
     },
     "execution_count": 61,
     "metadata": {},
     "output_type": "execute_result"
    }
   ],
   "source": [
    "len(final[final != -1])"
   ]
  },
  {
   "cell_type": "code",
   "execution_count": 62,
   "metadata": {},
   "outputs": [],
   "source": [
    "bhs = pd.concat([ieee_bhs_only, springer_bhs_only, acm_bhs_only, wiley_bhs_only], ignore_index=True).drop_duplicates(keep='first', inplace=False)"
   ]
  },
  {
   "cell_type": "code",
   "execution_count": 63,
   "metadata": {},
   "outputs": [],
   "source": [
    "bhs = bhs.apply(lambda x: x if x.lower().find('blockchain') != -1 or x.lower().find('healthcare') != -1 else -1)"
   ]
  },
  {
   "cell_type": "code",
   "execution_count": 64,
   "metadata": {},
   "outputs": [
    {
     "data": {
      "text/plain": [
       "136"
      ]
     },
     "execution_count": 64,
     "metadata": {},
     "output_type": "execute_result"
    }
   ],
   "source": [
    "len(bhs[bhs != -1])"
   ]
  },
  {
   "cell_type": "code",
   "execution_count": 79,
   "metadata": {},
   "outputs": [
    {
     "data": {
      "text/plain": [
       "14"
      ]
     },
     "execution_count": 79,
     "metadata": {},
     "output_type": "execute_result"
    }
   ],
   "source": [
    "bi = pd.concat([ieee_bi, springer_bi, acm_bi[0], wiley_bi[0]], ignore_index=True).drop_duplicates(keep='first', inplace=False)\n",
    "bi = bi.apply(lambda x: x if x.lower().find('blockchain') != -1 else -1)\n",
    "len(bi[bi != -1])"
   ]
  },
  {
   "cell_type": "code",
   "execution_count": 81,
   "metadata": {},
   "outputs": [
    {
     "data": {
      "text/plain": [
       "9"
      ]
     },
     "execution_count": 81,
     "metadata": {},
     "output_type": "execute_result"
    }
   ],
   "source": [
    "bis = pd.concat([ieee_bis, springer_bis, wiley_bis[0]], ignore_index=True).drop_duplicates(keep='first', inplace=False)\n",
    "bis = bis.apply(lambda x: x if x.lower().find('blockchain') != -1 else -1)\n",
    "len(bis[bis != -1])"
   ]
  },
  {
   "cell_type": "markdown",
   "metadata": {},
   "source": [
    "#### Write down the titles"
   ]
  },
  {
   "cell_type": "code",
   "execution_count": 69,
   "metadata": {},
   "outputs": [
    {
     "name": "stderr",
     "output_type": "stream",
     "text": [
      "/Users/gioelebigini/Desktop/WORKenv/lib/python2.7/site-packages/ipykernel_launcher.py:1: FutureWarning: The signature of `Series.to_csv` was aligned to that of `DataFrame.to_csv`, and argument 'header' will change its default value from False to True: please pass an explicit value to suppress this warning.\n",
      "  \"\"\"Entry point for launching an IPython kernel.\n"
     ]
    }
   ],
   "source": [
    "final[final != -1].to_csv(\"bh_titles.csv\", index=False)"
   ]
  },
  {
   "cell_type": "code",
   "execution_count": 70,
   "metadata": {},
   "outputs": [
    {
     "name": "stderr",
     "output_type": "stream",
     "text": [
      "/Users/gioelebigini/Desktop/WORKenv/lib/python2.7/site-packages/ipykernel_launcher.py:1: FutureWarning: The signature of `Series.to_csv` was aligned to that of `DataFrame.to_csv`, and argument 'header' will change its default value from False to True: please pass an explicit value to suppress this warning.\n",
      "  \"\"\"Entry point for launching an IPython kernel.\n"
     ]
    }
   ],
   "source": [
    "bhs[bhs != -1].to_csv(\"bhs_titles.csv\", index=False)"
   ]
  },
  {
   "cell_type": "code",
   "execution_count": 82,
   "metadata": {},
   "outputs": [
    {
     "name": "stderr",
     "output_type": "stream",
     "text": [
      "/Users/gioelebigini/Desktop/WORKenv/lib/python2.7/site-packages/ipykernel_launcher.py:1: FutureWarning: The signature of `Series.to_csv` was aligned to that of `DataFrame.to_csv`, and argument 'header' will change its default value from False to True: please pass an explicit value to suppress this warning.\n",
      "  \"\"\"Entry point for launching an IPython kernel.\n"
     ]
    }
   ],
   "source": [
    "bi[bi != -1].to_csv(\"bi_titles.csv\", index=False)"
   ]
  },
  {
   "cell_type": "code",
   "execution_count": 83,
   "metadata": {},
   "outputs": [
    {
     "name": "stderr",
     "output_type": "stream",
     "text": [
      "/Users/gioelebigini/Desktop/WORKenv/lib/python2.7/site-packages/ipykernel_launcher.py:1: FutureWarning: The signature of `Series.to_csv` was aligned to that of `DataFrame.to_csv`, and argument 'header' will change its default value from False to True: please pass an explicit value to suppress this warning.\n",
      "  \"\"\"Entry point for launching an IPython kernel.\n"
     ]
    }
   ],
   "source": [
    "bis[bis != -1].to_csv(\"bis_titles.csv\", index=False)"
   ]
  },
  {
   "cell_type": "code",
   "execution_count": null,
   "metadata": {},
   "outputs": [],
   "source": []
  }
 ],
 "metadata": {
  "kernelspec": {
   "display_name": "Python 3",
   "language": "python",
   "name": "python3"
  },
  "language_info": {
   "codemirror_mode": {
    "name": "ipython",
    "version": 3
   },
   "file_extension": ".py",
   "mimetype": "text/x-python",
   "name": "python",
   "nbconvert_exporter": "python",
   "pygments_lexer": "ipython3",
   "version": "3.8.5"
  }
 },
 "nbformat": 4,
 "nbformat_minor": 2
}
