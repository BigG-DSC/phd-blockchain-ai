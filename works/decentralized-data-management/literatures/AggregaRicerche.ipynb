{
 "cells": [
  {
   "cell_type": "code",
   "execution_count": 1,
   "metadata": {},
   "outputs": [],
   "source": [
    "import pandas as pd"
   ]
  },
  {
   "cell_type": "markdown",
   "metadata": {},
   "source": [
    "### Springer"
   ]
  },
  {
   "cell_type": "code",
   "execution_count": 2,
   "metadata": {},
   "outputs": [
    {
     "data": {
      "text/html": [
       "<div>\n",
       "<style scoped>\n",
       "    .dataframe tbody tr th:only-of-type {\n",
       "        vertical-align: middle;\n",
       "    }\n",
       "\n",
       "    .dataframe tbody tr th {\n",
       "        vertical-align: top;\n",
       "    }\n",
       "\n",
       "    .dataframe thead th {\n",
       "        text-align: right;\n",
       "    }\n",
       "</style>\n",
       "<table border=\"1\" class=\"dataframe\">\n",
       "  <thead>\n",
       "    <tr style=\"text-align: right;\">\n",
       "      <th></th>\n",
       "      <th>Item Title</th>\n",
       "      <th>Publication Title</th>\n",
       "      <th>Book Series Title</th>\n",
       "      <th>Journal Volume</th>\n",
       "      <th>Journal Issue</th>\n",
       "      <th>Item DOI</th>\n",
       "      <th>Authors</th>\n",
       "      <th>Publication Year</th>\n",
       "      <th>URL</th>\n",
       "      <th>Content Type</th>\n",
       "    </tr>\n",
       "  </thead>\n",
       "  <tbody>\n",
       "    <tr>\n",
       "      <th>0</th>\n",
       "      <td>Ensuring protocol compliance and data transpar...</td>\n",
       "      <td>BMC Medical Research Methodology</td>\n",
       "      <td>NaN</td>\n",
       "      <td>20.0</td>\n",
       "      <td>1.0</td>\n",
       "      <td>10.1186/s12874-020-01109-5</td>\n",
       "      <td>Ilhaam A. OmarRaja JayaramanKhaled SalahMecit ...</td>\n",
       "      <td>2020</td>\n",
       "      <td>http://link.springer.com/article/10.1186/s1287...</td>\n",
       "      <td>Article</td>\n",
       "    </tr>\n",
       "  </tbody>\n",
       "</table>\n",
       "</div>"
      ],
      "text/plain": [
       "                                          Item Title  \\\n",
       "0  Ensuring protocol compliance and data transpar...   \n",
       "\n",
       "                  Publication Title  Book Series Title  Journal Volume  \\\n",
       "0  BMC Medical Research Methodology                NaN            20.0   \n",
       "\n",
       "   Journal Issue                    Item DOI  \\\n",
       "0            1.0  10.1186/s12874-020-01109-5   \n",
       "\n",
       "                                             Authors  Publication Year  \\\n",
       "0  Ilhaam A. OmarRaja JayaramanKhaled SalahMecit ...              2020   \n",
       "\n",
       "                                                 URL Content Type  \n",
       "0  http://link.springer.com/article/10.1186/s1287...      Article  "
      ]
     },
     "execution_count": 2,
     "metadata": {},
     "output_type": "execute_result"
    }
   ],
   "source": [
    "springer = pd.read_csv('springer.csv')\n",
    "springer.head(1)"
   ]
  },
  {
   "cell_type": "code",
   "execution_count": 3,
   "metadata": {},
   "outputs": [],
   "source": [
    "springer = springer[\"Item Title\"]"
   ]
  },
  {
   "cell_type": "code",
   "execution_count": 4,
   "metadata": {
    "scrolled": true
   },
   "outputs": [
    {
     "name": "stdout",
     "output_type": "stream",
     "text": [
      "Titoli totali su Springer: 13\n"
     ]
    }
   ],
   "source": [
    "print(\"Titoli totali su Springer:\", len(springer))"
   ]
  },
  {
   "cell_type": "markdown",
   "metadata": {},
   "source": [
    "### IEEE Xplore"
   ]
  },
  {
   "cell_type": "code",
   "execution_count": 30,
   "metadata": {},
   "outputs": [],
   "source": [
    "ieee_file = open('ieee.bib', 'r')\n",
    "rows = ieee_file.readlines()"
   ]
  },
  {
   "cell_type": "code",
   "execution_count": 31,
   "metadata": {},
   "outputs": [],
   "source": [
    "titles = []\n",
    "for row in rows:\n",
    "    if 'title' in row:\n",
    "        start = row.find('title={')+1\n",
    "        end = row.find('}')\n",
    "        titles.append(row)"
   ]
  },
  {
   "cell_type": "code",
   "execution_count": 32,
   "metadata": {},
   "outputs": [
    {
     "data": {
      "text/html": [
       "<div>\n",
       "<style scoped>\n",
       "    .dataframe tbody tr th:only-of-type {\n",
       "        vertical-align: middle;\n",
       "    }\n",
       "\n",
       "    .dataframe tbody tr th {\n",
       "        vertical-align: top;\n",
       "    }\n",
       "\n",
       "    .dataframe thead th {\n",
       "        text-align: right;\n",
       "    }\n",
       "</style>\n",
       "<table border=\"1\" class=\"dataframe\">\n",
       "  <thead>\n",
       "    <tr style=\"text-align: right;\">\n",
       "      <th></th>\n",
       "      <th>0</th>\n",
       "    </tr>\n",
       "  </thead>\n",
       "  <tbody>\n",
       "    <tr>\n",
       "      <th>0</th>\n",
       "      <td>booktitle={2020 International Conference on CO...</td>\n",
       "    </tr>\n",
       "    <tr>\n",
       "      <th>1</th>\n",
       "      <td>booktitle={2019 IEEE Symposium on Computers an...</td>\n",
       "    </tr>\n",
       "    <tr>\n",
       "      <th>2</th>\n",
       "      <td>booktitle={2020 International Conference on In...</td>\n",
       "    </tr>\n",
       "    <tr>\n",
       "      <th>3</th>\n",
       "      <td>booktitle={IEEE INFOCOM 2020 - IEEE Conference...</td>\n",
       "    </tr>\n",
       "    <tr>\n",
       "      <th>4</th>\n",
       "      <td>booktitle={2020 Third ISEA Conference on Secur...</td>\n",
       "    </tr>\n",
       "    <tr>\n",
       "      <th>5</th>\n",
       "      <td>journal={IEEE Access}, title={Blockchain for G...</td>\n",
       "    </tr>\n",
       "    <tr>\n",
       "      <th>6</th>\n",
       "      <td>booktitle={2020 IEEE International Conference ...</td>\n",
       "    </tr>\n",
       "    <tr>\n",
       "      <th>7</th>\n",
       "      <td>booktitle={2019 IEEE International Conference ...</td>\n",
       "    </tr>\n",
       "    <tr>\n",
       "      <th>8</th>\n",
       "      <td>journal={IEEE Access}, title={Blockchain for S...</td>\n",
       "    </tr>\n",
       "    <tr>\n",
       "      <th>9</th>\n",
       "      <td>booktitle={2020 IEEE 8th International Confere...</td>\n",
       "    </tr>\n",
       "    <tr>\n",
       "      <th>10</th>\n",
       "      <td>booktitle={2019 IEEE Conference on Information...</td>\n",
       "    </tr>\n",
       "    <tr>\n",
       "      <th>11</th>\n",
       "      <td>booktitle={2020 Seventh International Conferen...</td>\n",
       "    </tr>\n",
       "    <tr>\n",
       "      <th>12</th>\n",
       "      <td>booktitle={2020 International Conference on Co...</td>\n",
       "    </tr>\n",
       "    <tr>\n",
       "      <th>13</th>\n",
       "      <td>journal={IEEE Transactions on Industrial Infor...</td>\n",
       "    </tr>\n",
       "  </tbody>\n",
       "</table>\n",
       "</div>"
      ],
      "text/plain": [
       "                                                    0\n",
       "0   booktitle={2020 International Conference on CO...\n",
       "1   booktitle={2019 IEEE Symposium on Computers an...\n",
       "2   booktitle={2020 International Conference on In...\n",
       "3   booktitle={IEEE INFOCOM 2020 - IEEE Conference...\n",
       "4   booktitle={2020 Third ISEA Conference on Secur...\n",
       "5   journal={IEEE Access}, title={Blockchain for G...\n",
       "6   booktitle={2020 IEEE International Conference ...\n",
       "7   booktitle={2019 IEEE International Conference ...\n",
       "8   journal={IEEE Access}, title={Blockchain for S...\n",
       "9   booktitle={2020 IEEE 8th International Confere...\n",
       "10  booktitle={2019 IEEE Conference on Information...\n",
       "11  booktitle={2020 Seventh International Conferen...\n",
       "12  booktitle={2020 International Conference on Co...\n",
       "13  journal={IEEE Transactions on Industrial Infor..."
      ]
     },
     "execution_count": 32,
     "metadata": {},
     "output_type": "execute_result"
    }
   ],
   "source": [
    "ieee = pd.DataFrame(titles)\n",
    "ieee"
   ]
  },
  {
   "cell_type": "code",
   "execution_count": 34,
   "metadata": {},
   "outputs": [
    {
     "name": "stdout",
     "output_type": "stream",
     "text": [
      "Titoli totali: 14\n"
     ]
    }
   ],
   "source": [
    "print(\"Titoli totali:\", len(ieee))"
   ]
  },
  {
   "cell_type": "markdown",
   "metadata": {},
   "source": [
    "### ACM Digital Library"
   ]
  },
  {
   "cell_type": "code",
   "execution_count": 35,
   "metadata": {},
   "outputs": [],
   "source": [
    "acm_file = open('acm.bib', 'r')\n",
    "rows = acm_file.readlines()"
   ]
  },
  {
   "cell_type": "code",
   "execution_count": 36,
   "metadata": {},
   "outputs": [],
   "source": [
    "titles = []\n",
    "for row in rows:\n",
    "    if 'title' in row:\n",
    "        start = row.find('title={')+1\n",
    "        end = row.find('}')\n",
    "        titles.append(row)     "
   ]
  },
  {
   "cell_type": "code",
   "execution_count": 37,
   "metadata": {},
   "outputs": [
    {
     "data": {
      "text/html": [
       "<div>\n",
       "<style scoped>\n",
       "    .dataframe tbody tr th:only-of-type {\n",
       "        vertical-align: middle;\n",
       "    }\n",
       "\n",
       "    .dataframe tbody tr th {\n",
       "        vertical-align: top;\n",
       "    }\n",
       "\n",
       "    .dataframe thead th {\n",
       "        text-align: right;\n",
       "    }\n",
       "</style>\n",
       "<table border=\"1\" class=\"dataframe\">\n",
       "  <thead>\n",
       "    <tr style=\"text-align: right;\">\n",
       "      <th></th>\n",
       "      <th>0</th>\n",
       "    </tr>\n",
       "  </thead>\n",
       "  <tbody>\n",
       "    <tr>\n",
       "      <th>0</th>\n",
       "      <td>title = {A Survey of Blockchain-Based Strategi...</td>\n",
       "    </tr>\n",
       "    <tr>\n",
       "      <th>1</th>\n",
       "      <td>title = {Security and Privacy on Blockchain},\\n</td>\n",
       "    </tr>\n",
       "    <tr>\n",
       "      <th>2</th>\n",
       "      <td>title = {A Survey of IoT Applications in Block...</td>\n",
       "    </tr>\n",
       "    <tr>\n",
       "      <th>3</th>\n",
       "      <td>title = {Blockchain Based Access Control Syste...</td>\n",
       "    </tr>\n",
       "    <tr>\n",
       "      <th>4</th>\n",
       "      <td>booktitle = {IEEE/WIC/ACM International Confer...</td>\n",
       "    </tr>\n",
       "    <tr>\n",
       "      <th>5</th>\n",
       "      <td>title = {Blockchain Technology for Cloud Stora...</td>\n",
       "    </tr>\n",
       "    <tr>\n",
       "      <th>6</th>\n",
       "      <td>title = {Building Blocks of Negotiating Agents...</td>\n",
       "    </tr>\n",
       "    <tr>\n",
       "      <th>7</th>\n",
       "      <td>booktitle = {Proceedings of the 21st Internati...</td>\n",
       "    </tr>\n",
       "    <tr>\n",
       "      <th>8</th>\n",
       "      <td>title = {How to Define Value on Data under Blo...</td>\n",
       "    </tr>\n",
       "    <tr>\n",
       "      <th>9</th>\n",
       "      <td>booktitle = {Proceedings of the 11th Internati...</td>\n",
       "    </tr>\n",
       "    <tr>\n",
       "      <th>10</th>\n",
       "      <td>title = {On the Design of Communication and Tr...</td>\n",
       "    </tr>\n",
       "    <tr>\n",
       "      <th>11</th>\n",
       "      <td>booktitle = {Proceedings of the 1st Workshop o...</td>\n",
       "    </tr>\n",
       "    <tr>\n",
       "      <th>12</th>\n",
       "      <td>title = {Performance Considerations for Edge B...</td>\n",
       "    </tr>\n",
       "    <tr>\n",
       "      <th>13</th>\n",
       "      <td>booktitle = {Proceedings of the 21st Internati...</td>\n",
       "    </tr>\n",
       "    <tr>\n",
       "      <th>14</th>\n",
       "      <td>title = {Decentralized and Secure Delivery Net...</td>\n",
       "    </tr>\n",
       "    <tr>\n",
       "      <th>15</th>\n",
       "      <td>booktitle = {Proceedings of the 29th Annual In...</td>\n",
       "    </tr>\n",
       "    <tr>\n",
       "      <th>16</th>\n",
       "      <td>title = {A Security and Privacy Focused KYC Da...</td>\n",
       "    </tr>\n",
       "    <tr>\n",
       "      <th>17</th>\n",
       "      <td>booktitle = {Proceedings of the 2nd ACM Intern...</td>\n",
       "    </tr>\n",
       "    <tr>\n",
       "      <th>18</th>\n",
       "      <td>title = {Applications of Distributed Ledger Te...</td>\n",
       "    </tr>\n",
       "    <tr>\n",
       "      <th>19</th>\n",
       "      <td>title = {On the Tracking of Sensitive Data and...</td>\n",
       "    </tr>\n",
       "    <tr>\n",
       "      <th>20</th>\n",
       "      <td>booktitle = {Proceedings of the 14th ACM Inter...</td>\n",
       "    </tr>\n",
       "    <tr>\n",
       "      <th>21</th>\n",
       "      <td>title = {WWW '19: Companion Proceedings of The...</td>\n",
       "    </tr>\n",
       "  </tbody>\n",
       "</table>\n",
       "</div>"
      ],
      "text/plain": [
       "                                                    0\n",
       "0   title = {A Survey of Blockchain-Based Strategi...\n",
       "1     title = {Security and Privacy on Blockchain},\\n\n",
       "2   title = {A Survey of IoT Applications in Block...\n",
       "3   title = {Blockchain Based Access Control Syste...\n",
       "4   booktitle = {IEEE/WIC/ACM International Confer...\n",
       "5   title = {Blockchain Technology for Cloud Stora...\n",
       "6   title = {Building Blocks of Negotiating Agents...\n",
       "7   booktitle = {Proceedings of the 21st Internati...\n",
       "8   title = {How to Define Value on Data under Blo...\n",
       "9   booktitle = {Proceedings of the 11th Internati...\n",
       "10  title = {On the Design of Communication and Tr...\n",
       "11  booktitle = {Proceedings of the 1st Workshop o...\n",
       "12  title = {Performance Considerations for Edge B...\n",
       "13  booktitle = {Proceedings of the 21st Internati...\n",
       "14  title = {Decentralized and Secure Delivery Net...\n",
       "15  booktitle = {Proceedings of the 29th Annual In...\n",
       "16  title = {A Security and Privacy Focused KYC Da...\n",
       "17  booktitle = {Proceedings of the 2nd ACM Intern...\n",
       "18  title = {Applications of Distributed Ledger Te...\n",
       "19  title = {On the Tracking of Sensitive Data and...\n",
       "20  booktitle = {Proceedings of the 14th ACM Inter...\n",
       "21  title = {WWW '19: Companion Proceedings of The..."
      ]
     },
     "execution_count": 37,
     "metadata": {},
     "output_type": "execute_result"
    }
   ],
   "source": [
    "acm = pd.DataFrame(titles)\n",
    "acm"
   ]
  },
  {
   "cell_type": "code",
   "execution_count": 38,
   "metadata": {},
   "outputs": [
    {
     "name": "stdout",
     "output_type": "stream",
     "text": [
      "Titoli totali: 22\n"
     ]
    }
   ],
   "source": [
    "print(\"Titoli totali:\", len(acm))"
   ]
  },
  {
   "cell_type": "markdown",
   "metadata": {},
   "source": [
    "### Scopus"
   ]
  },
  {
   "cell_type": "code",
   "execution_count": 39,
   "metadata": {},
   "outputs": [],
   "source": [
    "scopus_file = open('scopus.bib', 'r')\n",
    "rows = scopus_file.readlines()"
   ]
  },
  {
   "cell_type": "code",
   "execution_count": 40,
   "metadata": {},
   "outputs": [],
   "source": [
    "titles = []\n",
    "for row in rows:\n",
    "    if 'title' in row:\n",
    "        start = row.find('title={')+1\n",
    "        end = row.find('}')\n",
    "        titles.append(row)    "
   ]
  },
  {
   "cell_type": "code",
   "execution_count": 41,
   "metadata": {},
   "outputs": [
    {
     "data": {
      "text/html": [
       "<div>\n",
       "<style scoped>\n",
       "    .dataframe tbody tr th:only-of-type {\n",
       "        vertical-align: middle;\n",
       "    }\n",
       "\n",
       "    .dataframe tbody tr th {\n",
       "        vertical-align: top;\n",
       "    }\n",
       "\n",
       "    .dataframe thead th {\n",
       "        text-align: right;\n",
       "    }\n",
       "</style>\n",
       "<table border=\"1\" class=\"dataframe\">\n",
       "  <thead>\n",
       "    <tr style=\"text-align: right;\">\n",
       "      <th></th>\n",
       "      <th>0</th>\n",
       "    </tr>\n",
       "  </thead>\n",
       "  <tbody>\n",
       "    <tr>\n",
       "      <th>0</th>\n",
       "      <td>title={Blockchain Technology for Healthcare Da...</td>\n",
       "    </tr>\n",
       "    <tr>\n",
       "      <th>1</th>\n",
       "      <td>title={Blockchain based e-healthcare record sy...</td>\n",
       "    </tr>\n",
       "    <tr>\n",
       "      <th>2</th>\n",
       "      <td>title={Ensuring protocol compliance and data t...</td>\n",
       "    </tr>\n",
       "    <tr>\n",
       "      <th>3</th>\n",
       "      <td>title={A Trustworthy Privacy Preserving Framew...</td>\n",
       "    </tr>\n",
       "    <tr>\n",
       "      <th>4</th>\n",
       "      <td>title={HapiChain: A Blockchain-based Framework...</td>\n",
       "    </tr>\n",
       "    <tr>\n",
       "      <th>5</th>\n",
       "      <td>title={VAHAK: A blockchain-based outdoor deliv...</td>\n",
       "    </tr>\n",
       "    <tr>\n",
       "      <th>6</th>\n",
       "      <td>title={AaYusH: A smart contract-based telesurg...</td>\n",
       "    </tr>\n",
       "    <tr>\n",
       "      <th>7</th>\n",
       "      <td>title={Inter-Planetary File System Enabled Blo...</td>\n",
       "    </tr>\n",
       "    <tr>\n",
       "      <th>8</th>\n",
       "      <td>title={Distributed Off-Chain Storage of Patien...</td>\n",
       "    </tr>\n",
       "    <tr>\n",
       "      <th>9</th>\n",
       "      <td>title={Securing IoT-driven remote healthcare d...</td>\n",
       "    </tr>\n",
       "    <tr>\n",
       "      <th>10</th>\n",
       "      <td>title={Decentralized Transfer Learning using B...</td>\n",
       "    </tr>\n",
       "    <tr>\n",
       "      <th>11</th>\n",
       "      <td>title={8th IFIP WG 2.14 European Conference on...</td>\n",
       "    </tr>\n",
       "    <tr>\n",
       "      <th>12</th>\n",
       "      <td>title={Decentralised and distributed system fo...</td>\n",
       "    </tr>\n",
       "    <tr>\n",
       "      <th>13</th>\n",
       "      <td>title={On the Design of a Blockchain-as-a-Serv...</td>\n",
       "    </tr>\n",
       "    <tr>\n",
       "      <th>14</th>\n",
       "      <td>title={Emergency Service for Smart Home System...</td>\n",
       "    </tr>\n",
       "    <tr>\n",
       "      <th>15</th>\n",
       "      <td>title={Application of Blockchain to Supply Cha...</td>\n",
       "    </tr>\n",
       "    <tr>\n",
       "      <th>16</th>\n",
       "      <td>title={Blockchain for Secure EHRs Sharing of M...</td>\n",
       "    </tr>\n",
       "  </tbody>\n",
       "</table>\n",
       "</div>"
      ],
      "text/plain": [
       "                                                    0\n",
       "0   title={Blockchain Technology for Healthcare Da...\n",
       "1   title={Blockchain based e-healthcare record sy...\n",
       "2   title={Ensuring protocol compliance and data t...\n",
       "3   title={A Trustworthy Privacy Preserving Framew...\n",
       "4   title={HapiChain: A Blockchain-based Framework...\n",
       "5   title={VAHAK: A blockchain-based outdoor deliv...\n",
       "6   title={AaYusH: A smart contract-based telesurg...\n",
       "7   title={Inter-Planetary File System Enabled Blo...\n",
       "8   title={Distributed Off-Chain Storage of Patien...\n",
       "9   title={Securing IoT-driven remote healthcare d...\n",
       "10  title={Decentralized Transfer Learning using B...\n",
       "11  title={8th IFIP WG 2.14 European Conference on...\n",
       "12  title={Decentralised and distributed system fo...\n",
       "13  title={On the Design of a Blockchain-as-a-Serv...\n",
       "14  title={Emergency Service for Smart Home System...\n",
       "15  title={Application of Blockchain to Supply Cha...\n",
       "16  title={Blockchain for Secure EHRs Sharing of M..."
      ]
     },
     "execution_count": 41,
     "metadata": {},
     "output_type": "execute_result"
    }
   ],
   "source": [
    "scopus = pd.DataFrame(titles)\n",
    "scopus"
   ]
  },
  {
   "cell_type": "code",
   "execution_count": 42,
   "metadata": {
    "scrolled": true
   },
   "outputs": [
    {
     "name": "stdout",
     "output_type": "stream",
     "text": [
      "Titoli totali: 17\n"
     ]
    }
   ],
   "source": [
    "print(\"Titoli totali:\", len(scopus[0]))"
   ]
  },
  {
   "cell_type": "markdown",
   "metadata": {},
   "source": [
    "### Merge IEEE, Springer, ACM, Wiley"
   ]
  },
  {
   "cell_type": "code",
   "execution_count": 43,
   "metadata": {
    "scrolled": true
   },
   "outputs": [],
   "source": [
    "final = pd.concat([ieee, springer, acm, scopus], ignore_index=True)"
   ]
  },
  {
   "cell_type": "code",
   "execution_count": 45,
   "metadata": {},
   "outputs": [],
   "source": [
    "final.to_csv('results.csv', index=False)"
   ]
  },
  {
   "cell_type": "code",
   "execution_count": null,
   "metadata": {},
   "outputs": [],
   "source": []
  }
 ],
 "metadata": {
  "kernelspec": {
   "display_name": "Python 3",
   "language": "python",
   "name": "python3"
  },
  "language_info": {
   "codemirror_mode": {
    "name": "ipython",
    "version": 3
   },
   "file_extension": ".py",
   "mimetype": "text/x-python",
   "name": "python",
   "nbconvert_exporter": "python",
   "pygments_lexer": "ipython3",
   "version": "3.8.5"
  }
 },
 "nbformat": 4,
 "nbformat_minor": 2
}
